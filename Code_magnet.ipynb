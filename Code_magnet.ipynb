{
  "nbformat": 4,
  "nbformat_minor": 0,
  "metadata": {
    "colab": {
      "provenance": [],
      "authorship_tag": "ABX9TyM1RSJkQbWuynxmlrL5Bhwh",
      "include_colab_link": true
    },
    "kernelspec": {
      "name": "python3",
      "display_name": "Python 3"
    },
    "language_info": {
      "name": "python"
    }
  },
  "cells": [
    {
      "cell_type": "markdown",
      "metadata": {
        "id": "view-in-github",
        "colab_type": "text"
      },
      "source": [
        "<a href=\"https://colab.research.google.com/github/isys5002-itp/ISYS5002_2023_s2_Tursday/blob/main/Code_magnet.ipynb\" target=\"_parent\"><img src=\"https://colab.research.google.com/assets/colab-badge.svg\" alt=\"Open In Colab\"/></a>"
      ]
    },
    {
      "cell_type": "markdown",
      "source": [
        "**Algorithm**"
      ],
      "metadata": {
        "id": "OMEpCbVSneKV"
      }
    },
    {
      "cell_type": "markdown",
      "source": [
        "step 1 pan\n",
        "\n"
      ],
      "metadata": {
        "id": "4svAQOIQniVW"
      }
    },
    {
      "cell_type": "markdown",
      "source": [
        "crack eggs"
      ],
      "metadata": {
        "id": "fO1jhLcEnl-1"
      }
    },
    {
      "cell_type": "markdown",
      "source": [
        "wipe"
      ],
      "metadata": {
        "id": "tWlPAQMqnoxF"
      }
    },
    {
      "cell_type": "markdown",
      "source": [],
      "metadata": {
        "id": "5-IabD7lnrJF"
      }
    }
  ]
}